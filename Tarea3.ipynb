{
 "cells": [
  {
   "cell_type": "markdown",
   "metadata": {},
   "source": [
    "# Eventos ciclónicos en el cantón de Pérez Zeledón"
   ]
  },
  {
   "cell_type": "markdown",
   "metadata": {},
   "source": [
    "## Carga de paquetes"
   ]
  },
  {
   "cell_type": "code",
   "execution_count": 1,
   "metadata": {},
   "outputs": [],
   "source": [
    "import pandas as pd\n",
    "import geopandas as gpd\n",
    "import leafmap\n",
    "import ipyleaflet # para mejorar la visualización\n",
    "import rasterio\n",
    "import matplotlib.pyplot as plt\n",
    "\n",
    "\n",
    "import plotly.express as px\n",
    "import plotly.graph_objects as go\n",
    "\n",
    "from ipyleaflet import GeoData # para mejorar la visualización\n",
    "from rasterio.mask import mask\n",
    "\n"
   ]
  },
  {
   "cell_type": "markdown",
   "metadata": {},
   "source": [
    "## Carga de datos"
   ]
  },
  {
   "cell_type": "code",
   "execution_count": 2,
   "metadata": {},
   "outputs": [
    {
     "name": "stdout",
     "output_type": "stream",
     "text": [
      "           ID       DATE  DAY  MONTH  YEAR            CYCLONE     NAME  \\\n",
      "0  1988-104-1  13/9/1988   13      9  1988            Huracan  Gilbert   \n",
      "1  1988-104-2  13/9/1988   13      9  1988            Huracan  Gilbert   \n",
      "2    1988-108  16/9/1988   16      9  1988            Huracan  Gilbert   \n",
      "3    1993-113  15/9/1993   15      9  1993  Tormenta Tropical     Gert   \n",
      "4    1996-153  25/7/1996   25      7  1996            Huracan    Cesar   \n",
      "\n",
      "          CANTON    DISTRICT    COMMUNITY  ...  P_NAV/AVI  C_ARBOL  \\\n",
      "0  Perez Zeledon       Rivas        Rivas  ...          0        0   \n",
      "1  Perez Zeledon       Rivas  Buena Vista  ...          0        0   \n",
      "2  Perez Zeledon       Rivas          NaN  ...          0        0   \n",
      "3  Perez Zeledon    Pejibaye          NaN  ...          0        0   \n",
      "4  Perez Zeledon  Platanares     La Union  ...          0        0   \n",
      "\n",
      "   ENFER/HERI  BEN_AGRI  AGUA_P  T_AFEC  PER$  PERLOCAL  x_coord  y_coord  \n",
      "0           0         0       0     200     0         0   -83.66     9.42  \n",
      "1           0         0       0     200     0         0   -83.66     9.50  \n",
      "2           0         0       0       2     0         0   -83.71     9.55  \n",
      "3           0         0       0     180     0         0   -83.57     9.16  \n",
      "4           0         0       0       5     0         0   -83.64     9.21  \n",
      "\n",
      "[5 rows x 31 columns]\n"
     ]
    }
   ],
   "source": [
    "# Configuración de pandas para mostrar separadores de miles y 2 dígitos decimales\n",
    "pd.set_option('display.float_format', '{:,.2f}'.format)\n",
    "\n",
    "# Cargar el archivo CSV\n",
    "pz = pd.read_csv('C:\\\\Users\\\\XPC\\\\OneDrive - Universidad de Costa Rica\\\\UCR\\\\2024\\\\II Semestre\\\\Programación en SIG\\\\Tarea 3\\\\datos_perez_zeledon.csv',  delimiter=';')\n",
    "\n",
    "print(pz.head())"
   ]
  },
  {
   "cell_type": "code",
   "execution_count": 3,
   "metadata": {},
   "outputs": [],
   "source": [
    "# Cargar datos de los impactos\n",
    "impactosPZ_gdf = gpd.read_file(\n",
    "    'C:\\\\Users\\\\XPC\\\\OneDrive - Universidad de Costa Rica\\\\UCR\\\\2024\\\\II Semestre\\\\Programación en SIG\\\\Tarea 3\\\\datos_tarea3\\\\perez_zeledon\\\\impactos_pz.gpkg'\n",
    ")\n",
    "\n",
    "# Cargar datos de los distritos\n",
    "distritosPZ_gdf = gpd.read_file(\n",
    "    'C:\\\\Users\\\\XPC\\\\OneDrive - Universidad de Costa Rica\\\\UCR\\\\2024\\\\II Semestre\\\\Programación en SIG\\\\Tarea 3\\\\datos_tarea3\\\\perez_zeledon\\\\distritos_pz.gpkg'\n",
    ")\n"
   ]
  },
  {
   "cell_type": "code",
   "execution_count": 4,
   "metadata": {},
   "outputs": [
    {
     "data": {
      "text/html": [
       "<div>\n",
       "<style scoped>\n",
       "    .dataframe tbody tr th:only-of-type {\n",
       "        vertical-align: middle;\n",
       "    }\n",
       "\n",
       "    .dataframe tbody tr th {\n",
       "        vertical-align: top;\n",
       "    }\n",
       "\n",
       "    .dataframe thead th {\n",
       "        text-align: right;\n",
       "    }\n",
       "</style>\n",
       "<table border=\"1\" class=\"dataframe\">\n",
       "  <thead>\n",
       "    <tr style=\"text-align: right;\">\n",
       "      <th></th>\n",
       "      <th>codigo_dta</th>\n",
       "      <th>provincia</th>\n",
       "      <th>canton</th>\n",
       "      <th>distrito</th>\n",
       "      <th>COD_PROVINCIA</th>\n",
       "      <th>cod_canton</th>\n",
       "      <th>area(km2)</th>\n",
       "      <th>region</th>\n",
       "      <th>DENS_POB(hab/km²)</th>\n",
       "      <th>geometry</th>\n",
       "    </tr>\n",
       "  </thead>\n",
       "  <tbody>\n",
       "    <tr>\n",
       "      <th>0</th>\n",
       "      <td>11,909.00</td>\n",
       "      <td>San José</td>\n",
       "      <td>Pérez Zeledón</td>\n",
       "      <td>Barú</td>\n",
       "      <td>1.00</td>\n",
       "      <td>119.00</td>\n",
       "      <td>189.66</td>\n",
       "      <td>Brunca</td>\n",
       "      <td>14.07</td>\n",
       "      <td>MULTIPOLYGON (((-83.81039 9.38467, -83.81051 9...</td>\n",
       "    </tr>\n",
       "    <tr>\n",
       "      <th>1</th>\n",
       "      <td>11,901.00</td>\n",
       "      <td>San José</td>\n",
       "      <td>Pérez Zeledón</td>\n",
       "      <td>San Isidro de El General</td>\n",
       "      <td>1.00</td>\n",
       "      <td>119.00</td>\n",
       "      <td>191.82</td>\n",
       "      <td>Brunca</td>\n",
       "      <td>242.08</td>\n",
       "      <td>MULTIPOLYGON (((-83.67999 9.39599, -83.68015 9...</td>\n",
       "    </tr>\n",
       "    <tr>\n",
       "      <th>2</th>\n",
       "      <td>11,910.00</td>\n",
       "      <td>San José</td>\n",
       "      <td>Pérez Zeledón</td>\n",
       "      <td>Río Nuevo</td>\n",
       "      <td>1.00</td>\n",
       "      <td>119.00</td>\n",
       "      <td>242.19</td>\n",
       "      <td>Brunca</td>\n",
       "      <td>13.55</td>\n",
       "      <td>MULTIPOLYGON (((-83.73864 9.38753, -83.73865 9...</td>\n",
       "    </tr>\n",
       "    <tr>\n",
       "      <th>3</th>\n",
       "      <td>11,911.00</td>\n",
       "      <td>San José</td>\n",
       "      <td>Pérez Zeledón</td>\n",
       "      <td>Páramo</td>\n",
       "      <td>1.00</td>\n",
       "      <td>119.00</td>\n",
       "      <td>203.33</td>\n",
       "      <td>Brunca</td>\n",
       "      <td>22.81</td>\n",
       "      <td>MULTIPOLYGON (((-83.76369 9.58368, -83.76323 9...</td>\n",
       "    </tr>\n",
       "    <tr>\n",
       "      <th>4</th>\n",
       "      <td>11,912.00</td>\n",
       "      <td>San José</td>\n",
       "      <td>Pérez Zeledón</td>\n",
       "      <td>La Amistad</td>\n",
       "      <td>1.00</td>\n",
       "      <td>119.00</td>\n",
       "      <td>76.29</td>\n",
       "      <td>Brunca</td>\n",
       "      <td>NaN</td>\n",
       "      <td>MULTIPOLYGON (((-83.56859 9.23437, -83.56856 9...</td>\n",
       "    </tr>\n",
       "    <tr>\n",
       "      <th>5</th>\n",
       "      <td>11,908.00</td>\n",
       "      <td>San José</td>\n",
       "      <td>Pérez Zeledón</td>\n",
       "      <td>Cajón</td>\n",
       "      <td>1.00</td>\n",
       "      <td>119.00</td>\n",
       "      <td>118.63</td>\n",
       "      <td>Brunca</td>\n",
       "      <td>75.73</td>\n",
       "      <td>MULTIPOLYGON (((-83.51345 9.42208, -83.51376 9...</td>\n",
       "    </tr>\n",
       "    <tr>\n",
       "      <th>6</th>\n",
       "      <td>11,905.00</td>\n",
       "      <td>San José</td>\n",
       "      <td>Pérez Zeledón</td>\n",
       "      <td>San Pedro</td>\n",
       "      <td>1.00</td>\n",
       "      <td>119.00</td>\n",
       "      <td>206.12</td>\n",
       "      <td>Brunca</td>\n",
       "      <td>46.99</td>\n",
       "      <td>MULTIPOLYGON (((-83.42936 9.36737, -83.42936 9...</td>\n",
       "    </tr>\n",
       "    <tr>\n",
       "      <th>7</th>\n",
       "      <td>11,907.00</td>\n",
       "      <td>San José</td>\n",
       "      <td>Pérez Zeledón</td>\n",
       "      <td>Pejibaye</td>\n",
       "      <td>1.00</td>\n",
       "      <td>119.00</td>\n",
       "      <td>141.18</td>\n",
       "      <td>Brunca</td>\n",
       "      <td>59.38</td>\n",
       "      <td>MULTIPOLYGON (((-83.59974 9.21782, -83.59966 9...</td>\n",
       "    </tr>\n",
       "    <tr>\n",
       "      <th>8</th>\n",
       "      <td>11,906.00</td>\n",
       "      <td>San José</td>\n",
       "      <td>Pérez Zeledón</td>\n",
       "      <td>Platanares</td>\n",
       "      <td>1.00</td>\n",
       "      <td>119.00</td>\n",
       "      <td>80.92</td>\n",
       "      <td>Brunca</td>\n",
       "      <td>93.98</td>\n",
       "      <td>MULTIPOLYGON (((-83.60993 9.25298, -83.60988 9...</td>\n",
       "    </tr>\n",
       "    <tr>\n",
       "      <th>9</th>\n",
       "      <td>11,903.00</td>\n",
       "      <td>San José</td>\n",
       "      <td>Pérez Zeledón</td>\n",
       "      <td>Daniel Flores</td>\n",
       "      <td>1.00</td>\n",
       "      <td>119.00</td>\n",
       "      <td>64.06</td>\n",
       "      <td>Brunca</td>\n",
       "      <td>530.29</td>\n",
       "      <td>MULTIPOLYGON (((-83.67500 9.39182, -83.67063 9...</td>\n",
       "    </tr>\n",
       "    <tr>\n",
       "      <th>10</th>\n",
       "      <td>11,902.00</td>\n",
       "      <td>San José</td>\n",
       "      <td>Pérez Zeledón</td>\n",
       "      <td>El General</td>\n",
       "      <td>1.00</td>\n",
       "      <td>119.00</td>\n",
       "      <td>76.88</td>\n",
       "      <td>Brunca</td>\n",
       "      <td>86.65</td>\n",
       "      <td>MULTIPOLYGON (((-83.54692 9.43321, -83.54644 9...</td>\n",
       "    </tr>\n",
       "    <tr>\n",
       "      <th>11</th>\n",
       "      <td>11,904.00</td>\n",
       "      <td>San José</td>\n",
       "      <td>Pérez Zeledón</td>\n",
       "      <td>Rivas</td>\n",
       "      <td>1.00</td>\n",
       "      <td>119.00</td>\n",
       "      <td>310.00</td>\n",
       "      <td>Brunca</td>\n",
       "      <td>22.77</td>\n",
       "      <td>MULTIPOLYGON (((-83.64647 9.58446, -83.64628 9...</td>\n",
       "    </tr>\n",
       "  </tbody>\n",
       "</table>\n",
       "</div>"
      ],
      "text/plain": [
       "    codigo_dta provincia         canton                  distrito  \\\n",
       "0    11,909.00  San José  Pérez Zeledón                      Barú   \n",
       "1    11,901.00  San José  Pérez Zeledón  San Isidro de El General   \n",
       "2    11,910.00  San José  Pérez Zeledón                 Río Nuevo   \n",
       "3    11,911.00  San José  Pérez Zeledón                    Páramo   \n",
       "4    11,912.00  San José  Pérez Zeledón                La Amistad   \n",
       "5    11,908.00  San José  Pérez Zeledón                     Cajón   \n",
       "6    11,905.00  San José  Pérez Zeledón                 San Pedro   \n",
       "7    11,907.00  San José  Pérez Zeledón                  Pejibaye   \n",
       "8    11,906.00  San José  Pérez Zeledón                Platanares   \n",
       "9    11,903.00  San José  Pérez Zeledón             Daniel Flores   \n",
       "10   11,902.00  San José  Pérez Zeledón                El General   \n",
       "11   11,904.00  San José  Pérez Zeledón                     Rivas   \n",
       "\n",
       "    COD_PROVINCIA  cod_canton  area(km2)  region  DENS_POB(hab/km²)  \\\n",
       "0            1.00      119.00     189.66  Brunca              14.07   \n",
       "1            1.00      119.00     191.82  Brunca             242.08   \n",
       "2            1.00      119.00     242.19  Brunca              13.55   \n",
       "3            1.00      119.00     203.33  Brunca              22.81   \n",
       "4            1.00      119.00      76.29  Brunca                NaN   \n",
       "5            1.00      119.00     118.63  Brunca              75.73   \n",
       "6            1.00      119.00     206.12  Brunca              46.99   \n",
       "7            1.00      119.00     141.18  Brunca              59.38   \n",
       "8            1.00      119.00      80.92  Brunca              93.98   \n",
       "9            1.00      119.00      64.06  Brunca             530.29   \n",
       "10           1.00      119.00      76.88  Brunca              86.65   \n",
       "11           1.00      119.00     310.00  Brunca              22.77   \n",
       "\n",
       "                                             geometry  \n",
       "0   MULTIPOLYGON (((-83.81039 9.38467, -83.81051 9...  \n",
       "1   MULTIPOLYGON (((-83.67999 9.39599, -83.68015 9...  \n",
       "2   MULTIPOLYGON (((-83.73864 9.38753, -83.73865 9...  \n",
       "3   MULTIPOLYGON (((-83.76369 9.58368, -83.76323 9...  \n",
       "4   MULTIPOLYGON (((-83.56859 9.23437, -83.56856 9...  \n",
       "5   MULTIPOLYGON (((-83.51345 9.42208, -83.51376 9...  \n",
       "6   MULTIPOLYGON (((-83.42936 9.36737, -83.42936 9...  \n",
       "7   MULTIPOLYGON (((-83.59974 9.21782, -83.59966 9...  \n",
       "8   MULTIPOLYGON (((-83.60993 9.25298, -83.60988 9...  \n",
       "9   MULTIPOLYGON (((-83.67500 9.39182, -83.67063 9...  \n",
       "10  MULTIPOLYGON (((-83.54692 9.43321, -83.54644 9...  \n",
       "11  MULTIPOLYGON (((-83.64647 9.58446, -83.64628 9...  "
      ]
     },
     "execution_count": 4,
     "metadata": {},
     "output_type": "execute_result"
    }
   ],
   "source": [
    "distritosPZ_gdf"
   ]
  },
  {
   "cell_type": "markdown",
   "metadata": {},
   "source": [
    "## Gráficos"
   ]
  },
  {
   "cell_type": "markdown",
   "metadata": {},
   "source": [
    "### Gráfico de dispersión"
   ]
  },
  {
   "cell_type": "code",
   "execution_count": 5,
   "metadata": {},
   "outputs": [
    {
     "data": {
      "application/vnd.plotly.v1+json": {
       "config": {
        "plotlyServerURL": "https://plot.ly"
       },
       "data": [
        {
         "hovertemplate": "Año=%{x}<br>Total de Afectados=%{y}<extra></extra>",
         "legendgroup": "",
         "marker": {
          "color": "#636efa",
          "symbol": "circle"
         },
         "mode": "markers",
         "name": "",
         "orientation": "v",
         "showlegend": false,
         "type": "scatter",
         "x": [
          1988,
          1988,
          1988,
          1993,
          1996,
          1996,
          1996,
          1996,
          1996,
          1996,
          1996,
          1996,
          1996,
          1996,
          1998,
          1998,
          1998,
          2000,
          2007,
          2007,
          2007,
          2007,
          2007,
          2007,
          2007,
          2007,
          2007,
          2007,
          2007,
          2007,
          2007,
          2007,
          2010,
          2011,
          2011,
          2013,
          2014,
          2014,
          2014,
          2018,
          2018,
          2018,
          2018,
          2020,
          2022,
          2022,
          2022,
          2022,
          2022,
          2022,
          2022,
          2022,
          2022,
          2022,
          2022,
          2022,
          2022,
          2022,
          2022,
          2022,
          2022,
          2022,
          2022,
          2022,
          2022,
          2022,
          2022,
          2022,
          2022,
          2022,
          2022,
          2022,
          2022,
          2022,
          2022,
          2022,
          2022,
          2022,
          2022,
          2022,
          2022,
          2022,
          2022,
          2022,
          2022,
          2022,
          2022,
          2022,
          2022,
          2022,
          2022,
          2022,
          2022,
          2022,
          2022,
          2022,
          2022,
          2022,
          2022,
          2022,
          2022,
          2022,
          2022,
          2022,
          2022,
          2022,
          2022,
          2022,
          2022,
          2022,
          2022,
          2022,
          2022,
          2022,
          2022,
          2022,
          2022,
          2022,
          2022,
          2022,
          2022,
          2022,
          2022,
          2022,
          2022,
          2022,
          2022,
          2022,
          2022,
          2022,
          2022,
          2022,
          2022,
          2022,
          2022,
          2022,
          2022,
          2022,
          2022,
          2022,
          2022,
          2022,
          2022,
          2022,
          2022,
          2022,
          2022,
          2022,
          2022,
          2022,
          2022,
          2022,
          2022,
          2022,
          2022,
          2022,
          2022,
          2022,
          2022,
          2022,
          2022,
          2022,
          2022,
          2022,
          2022,
          2022,
          2022,
          2022,
          2022,
          2022,
          2022,
          2022,
          2022,
          2022,
          2022,
          2022,
          2022,
          2022,
          2022,
          2022
         ],
         "xaxis": "x",
         "y": [
          200,
          200,
          2,
          180,
          5,
          0,
          0,
          0,
          0,
          0,
          0,
          0,
          0,
          0,
          68,
          0,
          0,
          0,
          0,
          0,
          0,
          0,
          0,
          0,
          0,
          0,
          0,
          0,
          0,
          0,
          0,
          0,
          528,
          0,
          0,
          0,
          4,
          4,
          4,
          0,
          0,
          0,
          0,
          0,
          0,
          0,
          0,
          0,
          0,
          0,
          0,
          0,
          0,
          0,
          0,
          0,
          0,
          0,
          0,
          0,
          0,
          0,
          0,
          0,
          0,
          0,
          0,
          0,
          0,
          0,
          0,
          0,
          0,
          0,
          0,
          0,
          0,
          0,
          0,
          0,
          0,
          0,
          0,
          0,
          0,
          0,
          0,
          0,
          0,
          0,
          0,
          0,
          0,
          0,
          0,
          0,
          0,
          0,
          0,
          0,
          0,
          0,
          0,
          0,
          0,
          0,
          0,
          0,
          0,
          0,
          0,
          0,
          0,
          0,
          0,
          0,
          0,
          0,
          0,
          0,
          0,
          0,
          0,
          0,
          0,
          0,
          0,
          0,
          0,
          0,
          0,
          0,
          0,
          0,
          0,
          0,
          0,
          0,
          0,
          0,
          0,
          0,
          0,
          0,
          0,
          0,
          0,
          0,
          0,
          0,
          0,
          0,
          0,
          0,
          0,
          0,
          0,
          0,
          0,
          0,
          0,
          0,
          0,
          0,
          0,
          0,
          0,
          0,
          0,
          0,
          0,
          0,
          0,
          0,
          0,
          0,
          0,
          0,
          0,
          0
         ],
         "yaxis": "y"
        }
       ],
       "layout": {
        "legend": {
         "tracegroupgap": 0
        },
        "template": {
         "data": {
          "bar": [
           {
            "error_x": {
             "color": "#2a3f5f"
            },
            "error_y": {
             "color": "#2a3f5f"
            },
            "marker": {
             "line": {
              "color": "#E5ECF6",
              "width": 0.5
             },
             "pattern": {
              "fillmode": "overlay",
              "size": 10,
              "solidity": 0.2
             }
            },
            "type": "bar"
           }
          ],
          "barpolar": [
           {
            "marker": {
             "line": {
              "color": "#E5ECF6",
              "width": 0.5
             },
             "pattern": {
              "fillmode": "overlay",
              "size": 10,
              "solidity": 0.2
             }
            },
            "type": "barpolar"
           }
          ],
          "carpet": [
           {
            "aaxis": {
             "endlinecolor": "#2a3f5f",
             "gridcolor": "white",
             "linecolor": "white",
             "minorgridcolor": "white",
             "startlinecolor": "#2a3f5f"
            },
            "baxis": {
             "endlinecolor": "#2a3f5f",
             "gridcolor": "white",
             "linecolor": "white",
             "minorgridcolor": "white",
             "startlinecolor": "#2a3f5f"
            },
            "type": "carpet"
           }
          ],
          "choropleth": [
           {
            "colorbar": {
             "outlinewidth": 0,
             "ticks": ""
            },
            "type": "choropleth"
           }
          ],
          "contour": [
           {
            "colorbar": {
             "outlinewidth": 0,
             "ticks": ""
            },
            "colorscale": [
             [
              0,
              "#0d0887"
             ],
             [
              0.1111111111111111,
              "#46039f"
             ],
             [
              0.2222222222222222,
              "#7201a8"
             ],
             [
              0.3333333333333333,
              "#9c179e"
             ],
             [
              0.4444444444444444,
              "#bd3786"
             ],
             [
              0.5555555555555556,
              "#d8576b"
             ],
             [
              0.6666666666666666,
              "#ed7953"
             ],
             [
              0.7777777777777778,
              "#fb9f3a"
             ],
             [
              0.8888888888888888,
              "#fdca26"
             ],
             [
              1,
              "#f0f921"
             ]
            ],
            "type": "contour"
           }
          ],
          "contourcarpet": [
           {
            "colorbar": {
             "outlinewidth": 0,
             "ticks": ""
            },
            "type": "contourcarpet"
           }
          ],
          "heatmap": [
           {
            "colorbar": {
             "outlinewidth": 0,
             "ticks": ""
            },
            "colorscale": [
             [
              0,
              "#0d0887"
             ],
             [
              0.1111111111111111,
              "#46039f"
             ],
             [
              0.2222222222222222,
              "#7201a8"
             ],
             [
              0.3333333333333333,
              "#9c179e"
             ],
             [
              0.4444444444444444,
              "#bd3786"
             ],
             [
              0.5555555555555556,
              "#d8576b"
             ],
             [
              0.6666666666666666,
              "#ed7953"
             ],
             [
              0.7777777777777778,
              "#fb9f3a"
             ],
             [
              0.8888888888888888,
              "#fdca26"
             ],
             [
              1,
              "#f0f921"
             ]
            ],
            "type": "heatmap"
           }
          ],
          "heatmapgl": [
           {
            "colorbar": {
             "outlinewidth": 0,
             "ticks": ""
            },
            "colorscale": [
             [
              0,
              "#0d0887"
             ],
             [
              0.1111111111111111,
              "#46039f"
             ],
             [
              0.2222222222222222,
              "#7201a8"
             ],
             [
              0.3333333333333333,
              "#9c179e"
             ],
             [
              0.4444444444444444,
              "#bd3786"
             ],
             [
              0.5555555555555556,
              "#d8576b"
             ],
             [
              0.6666666666666666,
              "#ed7953"
             ],
             [
              0.7777777777777778,
              "#fb9f3a"
             ],
             [
              0.8888888888888888,
              "#fdca26"
             ],
             [
              1,
              "#f0f921"
             ]
            ],
            "type": "heatmapgl"
           }
          ],
          "histogram": [
           {
            "marker": {
             "pattern": {
              "fillmode": "overlay",
              "size": 10,
              "solidity": 0.2
             }
            },
            "type": "histogram"
           }
          ],
          "histogram2d": [
           {
            "colorbar": {
             "outlinewidth": 0,
             "ticks": ""
            },
            "colorscale": [
             [
              0,
              "#0d0887"
             ],
             [
              0.1111111111111111,
              "#46039f"
             ],
             [
              0.2222222222222222,
              "#7201a8"
             ],
             [
              0.3333333333333333,
              "#9c179e"
             ],
             [
              0.4444444444444444,
              "#bd3786"
             ],
             [
              0.5555555555555556,
              "#d8576b"
             ],
             [
              0.6666666666666666,
              "#ed7953"
             ],
             [
              0.7777777777777778,
              "#fb9f3a"
             ],
             [
              0.8888888888888888,
              "#fdca26"
             ],
             [
              1,
              "#f0f921"
             ]
            ],
            "type": "histogram2d"
           }
          ],
          "histogram2dcontour": [
           {
            "colorbar": {
             "outlinewidth": 0,
             "ticks": ""
            },
            "colorscale": [
             [
              0,
              "#0d0887"
             ],
             [
              0.1111111111111111,
              "#46039f"
             ],
             [
              0.2222222222222222,
              "#7201a8"
             ],
             [
              0.3333333333333333,
              "#9c179e"
             ],
             [
              0.4444444444444444,
              "#bd3786"
             ],
             [
              0.5555555555555556,
              "#d8576b"
             ],
             [
              0.6666666666666666,
              "#ed7953"
             ],
             [
              0.7777777777777778,
              "#fb9f3a"
             ],
             [
              0.8888888888888888,
              "#fdca26"
             ],
             [
              1,
              "#f0f921"
             ]
            ],
            "type": "histogram2dcontour"
           }
          ],
          "mesh3d": [
           {
            "colorbar": {
             "outlinewidth": 0,
             "ticks": ""
            },
            "type": "mesh3d"
           }
          ],
          "parcoords": [
           {
            "line": {
             "colorbar": {
              "outlinewidth": 0,
              "ticks": ""
             }
            },
            "type": "parcoords"
           }
          ],
          "pie": [
           {
            "automargin": true,
            "type": "pie"
           }
          ],
          "scatter": [
           {
            "fillpattern": {
             "fillmode": "overlay",
             "size": 10,
             "solidity": 0.2
            },
            "type": "scatter"
           }
          ],
          "scatter3d": [
           {
            "line": {
             "colorbar": {
              "outlinewidth": 0,
              "ticks": ""
             }
            },
            "marker": {
             "colorbar": {
              "outlinewidth": 0,
              "ticks": ""
             }
            },
            "type": "scatter3d"
           }
          ],
          "scattercarpet": [
           {
            "marker": {
             "colorbar": {
              "outlinewidth": 0,
              "ticks": ""
             }
            },
            "type": "scattercarpet"
           }
          ],
          "scattergeo": [
           {
            "marker": {
             "colorbar": {
              "outlinewidth": 0,
              "ticks": ""
             }
            },
            "type": "scattergeo"
           }
          ],
          "scattergl": [
           {
            "marker": {
             "colorbar": {
              "outlinewidth": 0,
              "ticks": ""
             }
            },
            "type": "scattergl"
           }
          ],
          "scattermapbox": [
           {
            "marker": {
             "colorbar": {
              "outlinewidth": 0,
              "ticks": ""
             }
            },
            "type": "scattermapbox"
           }
          ],
          "scatterpolar": [
           {
            "marker": {
             "colorbar": {
              "outlinewidth": 0,
              "ticks": ""
             }
            },
            "type": "scatterpolar"
           }
          ],
          "scatterpolargl": [
           {
            "marker": {
             "colorbar": {
              "outlinewidth": 0,
              "ticks": ""
             }
            },
            "type": "scatterpolargl"
           }
          ],
          "scatterternary": [
           {
            "marker": {
             "colorbar": {
              "outlinewidth": 0,
              "ticks": ""
             }
            },
            "type": "scatterternary"
           }
          ],
          "surface": [
           {
            "colorbar": {
             "outlinewidth": 0,
             "ticks": ""
            },
            "colorscale": [
             [
              0,
              "#0d0887"
             ],
             [
              0.1111111111111111,
              "#46039f"
             ],
             [
              0.2222222222222222,
              "#7201a8"
             ],
             [
              0.3333333333333333,
              "#9c179e"
             ],
             [
              0.4444444444444444,
              "#bd3786"
             ],
             [
              0.5555555555555556,
              "#d8576b"
             ],
             [
              0.6666666666666666,
              "#ed7953"
             ],
             [
              0.7777777777777778,
              "#fb9f3a"
             ],
             [
              0.8888888888888888,
              "#fdca26"
             ],
             [
              1,
              "#f0f921"
             ]
            ],
            "type": "surface"
           }
          ],
          "table": [
           {
            "cells": {
             "fill": {
              "color": "#EBF0F8"
             },
             "line": {
              "color": "white"
             }
            },
            "header": {
             "fill": {
              "color": "#C8D4E3"
             },
             "line": {
              "color": "white"
             }
            },
            "type": "table"
           }
          ]
         },
         "layout": {
          "annotationdefaults": {
           "arrowcolor": "#2a3f5f",
           "arrowhead": 0,
           "arrowwidth": 1
          },
          "autotypenumbers": "strict",
          "coloraxis": {
           "colorbar": {
            "outlinewidth": 0,
            "ticks": ""
           }
          },
          "colorscale": {
           "diverging": [
            [
             0,
             "#8e0152"
            ],
            [
             0.1,
             "#c51b7d"
            ],
            [
             0.2,
             "#de77ae"
            ],
            [
             0.3,
             "#f1b6da"
            ],
            [
             0.4,
             "#fde0ef"
            ],
            [
             0.5,
             "#f7f7f7"
            ],
            [
             0.6,
             "#e6f5d0"
            ],
            [
             0.7,
             "#b8e186"
            ],
            [
             0.8,
             "#7fbc41"
            ],
            [
             0.9,
             "#4d9221"
            ],
            [
             1,
             "#276419"
            ]
           ],
           "sequential": [
            [
             0,
             "#0d0887"
            ],
            [
             0.1111111111111111,
             "#46039f"
            ],
            [
             0.2222222222222222,
             "#7201a8"
            ],
            [
             0.3333333333333333,
             "#9c179e"
            ],
            [
             0.4444444444444444,
             "#bd3786"
            ],
            [
             0.5555555555555556,
             "#d8576b"
            ],
            [
             0.6666666666666666,
             "#ed7953"
            ],
            [
             0.7777777777777778,
             "#fb9f3a"
            ],
            [
             0.8888888888888888,
             "#fdca26"
            ],
            [
             1,
             "#f0f921"
            ]
           ],
           "sequentialminus": [
            [
             0,
             "#0d0887"
            ],
            [
             0.1111111111111111,
             "#46039f"
            ],
            [
             0.2222222222222222,
             "#7201a8"
            ],
            [
             0.3333333333333333,
             "#9c179e"
            ],
            [
             0.4444444444444444,
             "#bd3786"
            ],
            [
             0.5555555555555556,
             "#d8576b"
            ],
            [
             0.6666666666666666,
             "#ed7953"
            ],
            [
             0.7777777777777778,
             "#fb9f3a"
            ],
            [
             0.8888888888888888,
             "#fdca26"
            ],
            [
             1,
             "#f0f921"
            ]
           ]
          },
          "colorway": [
           "#636efa",
           "#EF553B",
           "#00cc96",
           "#ab63fa",
           "#FFA15A",
           "#19d3f3",
           "#FF6692",
           "#B6E880",
           "#FF97FF",
           "#FECB52"
          ],
          "font": {
           "color": "#2a3f5f"
          },
          "geo": {
           "bgcolor": "white",
           "lakecolor": "white",
           "landcolor": "#E5ECF6",
           "showlakes": true,
           "showland": true,
           "subunitcolor": "white"
          },
          "hoverlabel": {
           "align": "left"
          },
          "hovermode": "closest",
          "mapbox": {
           "style": "light"
          },
          "paper_bgcolor": "white",
          "plot_bgcolor": "#E5ECF6",
          "polar": {
           "angularaxis": {
            "gridcolor": "white",
            "linecolor": "white",
            "ticks": ""
           },
           "bgcolor": "#E5ECF6",
           "radialaxis": {
            "gridcolor": "white",
            "linecolor": "white",
            "ticks": ""
           }
          },
          "scene": {
           "xaxis": {
            "backgroundcolor": "#E5ECF6",
            "gridcolor": "white",
            "gridwidth": 2,
            "linecolor": "white",
            "showbackground": true,
            "ticks": "",
            "zerolinecolor": "white"
           },
           "yaxis": {
            "backgroundcolor": "#E5ECF6",
            "gridcolor": "white",
            "gridwidth": 2,
            "linecolor": "white",
            "showbackground": true,
            "ticks": "",
            "zerolinecolor": "white"
           },
           "zaxis": {
            "backgroundcolor": "#E5ECF6",
            "gridcolor": "white",
            "gridwidth": 2,
            "linecolor": "white",
            "showbackground": true,
            "ticks": "",
            "zerolinecolor": "white"
           }
          },
          "shapedefaults": {
           "line": {
            "color": "#2a3f5f"
           }
          },
          "ternary": {
           "aaxis": {
            "gridcolor": "white",
            "linecolor": "white",
            "ticks": ""
           },
           "baxis": {
            "gridcolor": "white",
            "linecolor": "white",
            "ticks": ""
           },
           "bgcolor": "#E5ECF6",
           "caxis": {
            "gridcolor": "white",
            "linecolor": "white",
            "ticks": ""
           }
          },
          "title": {
           "x": 0.05
          },
          "xaxis": {
           "automargin": true,
           "gridcolor": "white",
           "linecolor": "white",
           "ticks": "",
           "title": {
            "standoff": 15
           },
           "zerolinecolor": "white",
           "zerolinewidth": 2
          },
          "yaxis": {
           "automargin": true,
           "gridcolor": "white",
           "linecolor": "white",
           "ticks": "",
           "title": {
            "standoff": 15
           },
           "zerolinecolor": "white",
           "zerolinewidth": 2
          }
         }
        },
        "title": {
         "text": "Evolución del total de afectados por eventos ciclónicos a lo largo de los años"
        },
        "xaxis": {
         "anchor": "y",
         "domain": [
          0,
          1
         ],
         "title": {
          "text": "Año"
         }
        },
        "yaxis": {
         "anchor": "x",
         "domain": [
          0,
          1
         ],
         "title": {
          "text": "Total de Afectados"
         }
        }
       }
      }
     },
     "metadata": {},
     "output_type": "display_data"
    }
   ],
   "source": [
    "# Gráfico de dispersión para mostrar la evolución temporal de los afectados y pérdidas económicas\n",
    "fig = px.scatter(pz, x='YEAR', y='T_AFEC',\n",
    "                 title='Evolución del total de afectados por eventos ciclónicos a lo largo de los años',\n",
    "                 labels={'YEAR': 'Año', 'T_AFEC': 'Total de Afectados'}\n",
    "                 )\n",
    "fig.show()"
   ]
  },
  {
   "cell_type": "markdown",
   "metadata": {},
   "source": [
    "El gráfico de dispersión presenta la evolución del total de afectados por eventos ciclónicos en el cantón de Pérez Zeledón a lo largo de los años. Cada punto representa un año determinado con su respectivo registro de afectados, lo que permite comparar visualmente el comportamiento de estos eventos a lo largo del tiempo. Al observar los datos, se identifican patrones significativos, siendo el más alto en 2010, asociado al Huracán Tomás, que tuvo un gran impacto en la región. Es importante destacar que estos datos están oficializados hasta el año 2019, y su reporte puede variar según la administración vigente. Además, a medida que los años han pasado, ha mejorado el acceso y la creación de información, lo que significa que los datos más antiguos pueden estar sesgados debido a la falta de reportes en su momento.\n",
    "\n",
    "Este tipo de visualización es crucial porque evidencia que los eventos ciclónicos son recurrentes en el cantón de Pérez Zeledón. La gráfica permite discernir la frecuencia y la magnitud de estos eventos a lo largo del tiempo, facilitando el análisis de su impacto en la población. Al utilizar un gráfico de dispersión, se pueden resaltar las tendencias y anomalías que podrían pasar desapercibidas en formatos más tradicionales, como tablas. Esto no solo ayuda en la comprensión del fenómeno, sino que también es fundamental para informar políticas de gestión del riesgo y planificación territorial en la región, permitiendo a las autoridades anticiparse y prepararse mejor ante futuras eventualidades."
   ]
  },
  {
   "cell_type": "markdown",
   "metadata": {},
   "source": [
    "### Gráfico de líneas"
   ]
  },
  {
   "cell_type": "code",
   "execution_count": 6,
   "metadata": {},
   "outputs": [
    {
     "data": {
      "application/vnd.plotly.v1+json": {
       "config": {
        "plotlyServerURL": "https://plot.ly"
       },
       "data": [
        {
         "hovertemplate": "DISTRICT=Rivas<br>Año=%{x}<br>Cantidad de Eventos=%{y}<extra></extra>",
         "legendgroup": "Rivas",
         "line": {
          "color": "#636efa",
          "dash": "solid"
         },
         "marker": {
          "symbol": "circle"
         },
         "mode": "lines",
         "name": "Rivas",
         "orientation": "v",
         "showlegend": true,
         "type": "scatter",
         "x": [
          1988,
          1996,
          2000,
          2022
         ],
         "xaxis": "x",
         "y": [
          3,
          1,
          1,
          14
         ],
         "yaxis": "y"
        },
        {
         "hovertemplate": "DISTRICT=Pejibaye<br>Año=%{x}<br>Cantidad de Eventos=%{y}<extra></extra>",
         "legendgroup": "Pejibaye",
         "line": {
          "color": "#EF553B",
          "dash": "solid"
         },
         "marker": {
          "symbol": "circle"
         },
         "mode": "lines",
         "name": "Pejibaye",
         "orientation": "v",
         "showlegend": true,
         "type": "scatter",
         "x": [
          1993,
          1998,
          2007,
          2022
         ],
         "xaxis": "x",
         "y": [
          1,
          1,
          5,
          15
         ],
         "yaxis": "y"
        },
        {
         "hovertemplate": "DISTRICT=Baru<br>Año=%{x}<br>Cantidad de Eventos=%{y}<extra></extra>",
         "legendgroup": "Baru",
         "line": {
          "color": "#00cc96",
          "dash": "solid"
         },
         "marker": {
          "symbol": "circle"
         },
         "mode": "lines",
         "name": "Baru",
         "orientation": "v",
         "showlegend": true,
         "type": "scatter",
         "x": [
          1996,
          2007,
          2022
         ],
         "xaxis": "x",
         "y": [
          1,
          1,
          13
         ],
         "yaxis": "y"
        },
        {
         "hovertemplate": "DISTRICT=Cajon<br>Año=%{x}<br>Cantidad de Eventos=%{y}<extra></extra>",
         "legendgroup": "Cajon",
         "line": {
          "color": "#ab63fa",
          "dash": "solid"
         },
         "marker": {
          "symbol": "circle"
         },
         "mode": "lines",
         "name": "Cajon",
         "orientation": "v",
         "showlegend": true,
         "type": "scatter",
         "x": [
          1996,
          2022
         ],
         "xaxis": "x",
         "y": [
          1,
          7
         ],
         "yaxis": "y"
        },
        {
         "hovertemplate": "DISTRICT=Daniel Flores<br>Año=%{x}<br>Cantidad de Eventos=%{y}<extra></extra>",
         "legendgroup": "Daniel Flores",
         "line": {
          "color": "#FFA15A",
          "dash": "solid"
         },
         "marker": {
          "symbol": "circle"
         },
         "mode": "lines",
         "name": "Daniel Flores",
         "orientation": "v",
         "showlegend": true,
         "type": "scatter",
         "x": [
          1996,
          2010,
          2013,
          2014,
          2020,
          2022
         ],
         "xaxis": "x",
         "y": [
          1,
          1,
          1,
          2,
          1,
          9
         ],
         "yaxis": "y"
        },
        {
         "hovertemplate": "DISTRICT=Platanares<br>Año=%{x}<br>Cantidad de Eventos=%{y}<extra></extra>",
         "legendgroup": "Platanares",
         "line": {
          "color": "#19d3f3",
          "dash": "solid"
         },
         "marker": {
          "symbol": "circle"
         },
         "mode": "lines",
         "name": "Platanares",
         "orientation": "v",
         "showlegend": true,
         "type": "scatter",
         "x": [
          1996,
          1998,
          2007,
          2022
         ],
         "xaxis": "x",
         "y": [
          2,
          1,
          3,
          9
         ],
         "yaxis": "y"
        },
        {
         "hovertemplate": "DISTRICT=Rio Nuevo<br>Año=%{x}<br>Cantidad de Eventos=%{y}<extra></extra>",
         "legendgroup": "Rio Nuevo",
         "line": {
          "color": "#FF6692",
          "dash": "solid"
         },
         "marker": {
          "symbol": "circle"
         },
         "mode": "lines",
         "name": "Rio Nuevo",
         "orientation": "v",
         "showlegend": true,
         "type": "scatter",
         "x": [
          1996,
          2007,
          2022
         ],
         "xaxis": "x",
         "y": [
          1,
          2,
          6
         ],
         "yaxis": "y"
        },
        {
         "hovertemplate": "DISTRICT=San Isidro de El General<br>Año=%{x}<br>Cantidad de Eventos=%{y}<extra></extra>",
         "legendgroup": "San Isidro de El General",
         "line": {
          "color": "#B6E880",
          "dash": "solid"
         },
         "marker": {
          "symbol": "circle"
         },
         "mode": "lines",
         "name": "San Isidro de El General",
         "orientation": "v",
         "showlegend": true,
         "type": "scatter",
         "x": [
          1996,
          1998,
          2014,
          2022
         ],
         "xaxis": "x",
         "y": [
          2,
          1,
          1,
          28
         ],
         "yaxis": "y"
        },
        {
         "hovertemplate": "DISTRICT=San Pedro<br>Año=%{x}<br>Cantidad de Eventos=%{y}<extra></extra>",
         "legendgroup": "San Pedro",
         "line": {
          "color": "#FF97FF",
          "dash": "solid"
         },
         "marker": {
          "symbol": "circle"
         },
         "mode": "lines",
         "name": "San Pedro",
         "orientation": "v",
         "showlegend": true,
         "type": "scatter",
         "x": [
          1996,
          2007,
          2011,
          2022
         ],
         "xaxis": "x",
         "y": [
          1,
          1,
          1,
          8
         ],
         "yaxis": "y"
        },
        {
         "hovertemplate": "DISTRICT=General<br>Año=%{x}<br>Cantidad de Eventos=%{y}<extra></extra>",
         "legendgroup": "General",
         "line": {
          "color": "#FECB52",
          "dash": "solid"
         },
         "marker": {
          "symbol": "circle"
         },
         "mode": "lines",
         "name": "General",
         "orientation": "v",
         "showlegend": true,
         "type": "scatter",
         "x": [
          2007,
          2018,
          2022
         ],
         "xaxis": "x",
         "y": [
          1,
          2,
          3
         ],
         "yaxis": "y"
        },
        {
         "hovertemplate": "DISTRICT=Paramo<br>Año=%{x}<br>Cantidad de Eventos=%{y}<extra></extra>",
         "legendgroup": "Paramo",
         "line": {
          "color": "#636efa",
          "dash": "solid"
         },
         "marker": {
          "symbol": "circle"
         },
         "mode": "lines",
         "name": "Paramo",
         "orientation": "v",
         "showlegend": true,
         "type": "scatter",
         "x": [
          2007,
          2011,
          2018,
          2022
         ],
         "xaxis": "x",
         "y": [
          1,
          1,
          2,
          17
         ],
         "yaxis": "y"
        },
        {
         "hovertemplate": "DISTRICT=La Amistad<br>Año=%{x}<br>Cantidad de Eventos=%{y}<extra></extra>",
         "legendgroup": "La Amistad",
         "line": {
          "color": "#EF553B",
          "dash": "solid"
         },
         "marker": {
          "symbol": "circle"
         },
         "mode": "lines",
         "name": "La Amistad",
         "orientation": "v",
         "showlegend": true,
         "type": "scatter",
         "x": [
          2022
         ],
         "xaxis": "x",
         "y": [
          7
         ],
         "yaxis": "y"
        }
       ],
       "layout": {
        "legend": {
         "title": {
          "text": "DISTRICT"
         },
         "tracegroupgap": 0
        },
        "template": {
         "data": {
          "bar": [
           {
            "error_x": {
             "color": "#2a3f5f"
            },
            "error_y": {
             "color": "#2a3f5f"
            },
            "marker": {
             "line": {
              "color": "#E5ECF6",
              "width": 0.5
             },
             "pattern": {
              "fillmode": "overlay",
              "size": 10,
              "solidity": 0.2
             }
            },
            "type": "bar"
           }
          ],
          "barpolar": [
           {
            "marker": {
             "line": {
              "color": "#E5ECF6",
              "width": 0.5
             },
             "pattern": {
              "fillmode": "overlay",
              "size": 10,
              "solidity": 0.2
             }
            },
            "type": "barpolar"
           }
          ],
          "carpet": [
           {
            "aaxis": {
             "endlinecolor": "#2a3f5f",
             "gridcolor": "white",
             "linecolor": "white",
             "minorgridcolor": "white",
             "startlinecolor": "#2a3f5f"
            },
            "baxis": {
             "endlinecolor": "#2a3f5f",
             "gridcolor": "white",
             "linecolor": "white",
             "minorgridcolor": "white",
             "startlinecolor": "#2a3f5f"
            },
            "type": "carpet"
           }
          ],
          "choropleth": [
           {
            "colorbar": {
             "outlinewidth": 0,
             "ticks": ""
            },
            "type": "choropleth"
           }
          ],
          "contour": [
           {
            "colorbar": {
             "outlinewidth": 0,
             "ticks": ""
            },
            "colorscale": [
             [
              0,
              "#0d0887"
             ],
             [
              0.1111111111111111,
              "#46039f"
             ],
             [
              0.2222222222222222,
              "#7201a8"
             ],
             [
              0.3333333333333333,
              "#9c179e"
             ],
             [
              0.4444444444444444,
              "#bd3786"
             ],
             [
              0.5555555555555556,
              "#d8576b"
             ],
             [
              0.6666666666666666,
              "#ed7953"
             ],
             [
              0.7777777777777778,
              "#fb9f3a"
             ],
             [
              0.8888888888888888,
              "#fdca26"
             ],
             [
              1,
              "#f0f921"
             ]
            ],
            "type": "contour"
           }
          ],
          "contourcarpet": [
           {
            "colorbar": {
             "outlinewidth": 0,
             "ticks": ""
            },
            "type": "contourcarpet"
           }
          ],
          "heatmap": [
           {
            "colorbar": {
             "outlinewidth": 0,
             "ticks": ""
            },
            "colorscale": [
             [
              0,
              "#0d0887"
             ],
             [
              0.1111111111111111,
              "#46039f"
             ],
             [
              0.2222222222222222,
              "#7201a8"
             ],
             [
              0.3333333333333333,
              "#9c179e"
             ],
             [
              0.4444444444444444,
              "#bd3786"
             ],
             [
              0.5555555555555556,
              "#d8576b"
             ],
             [
              0.6666666666666666,
              "#ed7953"
             ],
             [
              0.7777777777777778,
              "#fb9f3a"
             ],
             [
              0.8888888888888888,
              "#fdca26"
             ],
             [
              1,
              "#f0f921"
             ]
            ],
            "type": "heatmap"
           }
          ],
          "heatmapgl": [
           {
            "colorbar": {
             "outlinewidth": 0,
             "ticks": ""
            },
            "colorscale": [
             [
              0,
              "#0d0887"
             ],
             [
              0.1111111111111111,
              "#46039f"
             ],
             [
              0.2222222222222222,
              "#7201a8"
             ],
             [
              0.3333333333333333,
              "#9c179e"
             ],
             [
              0.4444444444444444,
              "#bd3786"
             ],
             [
              0.5555555555555556,
              "#d8576b"
             ],
             [
              0.6666666666666666,
              "#ed7953"
             ],
             [
              0.7777777777777778,
              "#fb9f3a"
             ],
             [
              0.8888888888888888,
              "#fdca26"
             ],
             [
              1,
              "#f0f921"
             ]
            ],
            "type": "heatmapgl"
           }
          ],
          "histogram": [
           {
            "marker": {
             "pattern": {
              "fillmode": "overlay",
              "size": 10,
              "solidity": 0.2
             }
            },
            "type": "histogram"
           }
          ],
          "histogram2d": [
           {
            "colorbar": {
             "outlinewidth": 0,
             "ticks": ""
            },
            "colorscale": [
             [
              0,
              "#0d0887"
             ],
             [
              0.1111111111111111,
              "#46039f"
             ],
             [
              0.2222222222222222,
              "#7201a8"
             ],
             [
              0.3333333333333333,
              "#9c179e"
             ],
             [
              0.4444444444444444,
              "#bd3786"
             ],
             [
              0.5555555555555556,
              "#d8576b"
             ],
             [
              0.6666666666666666,
              "#ed7953"
             ],
             [
              0.7777777777777778,
              "#fb9f3a"
             ],
             [
              0.8888888888888888,
              "#fdca26"
             ],
             [
              1,
              "#f0f921"
             ]
            ],
            "type": "histogram2d"
           }
          ],
          "histogram2dcontour": [
           {
            "colorbar": {
             "outlinewidth": 0,
             "ticks": ""
            },
            "colorscale": [
             [
              0,
              "#0d0887"
             ],
             [
              0.1111111111111111,
              "#46039f"
             ],
             [
              0.2222222222222222,
              "#7201a8"
             ],
             [
              0.3333333333333333,
              "#9c179e"
             ],
             [
              0.4444444444444444,
              "#bd3786"
             ],
             [
              0.5555555555555556,
              "#d8576b"
             ],
             [
              0.6666666666666666,
              "#ed7953"
             ],
             [
              0.7777777777777778,
              "#fb9f3a"
             ],
             [
              0.8888888888888888,
              "#fdca26"
             ],
             [
              1,
              "#f0f921"
             ]
            ],
            "type": "histogram2dcontour"
           }
          ],
          "mesh3d": [
           {
            "colorbar": {
             "outlinewidth": 0,
             "ticks": ""
            },
            "type": "mesh3d"
           }
          ],
          "parcoords": [
           {
            "line": {
             "colorbar": {
              "outlinewidth": 0,
              "ticks": ""
             }
            },
            "type": "parcoords"
           }
          ],
          "pie": [
           {
            "automargin": true,
            "type": "pie"
           }
          ],
          "scatter": [
           {
            "fillpattern": {
             "fillmode": "overlay",
             "size": 10,
             "solidity": 0.2
            },
            "type": "scatter"
           }
          ],
          "scatter3d": [
           {
            "line": {
             "colorbar": {
              "outlinewidth": 0,
              "ticks": ""
             }
            },
            "marker": {
             "colorbar": {
              "outlinewidth": 0,
              "ticks": ""
             }
            },
            "type": "scatter3d"
           }
          ],
          "scattercarpet": [
           {
            "marker": {
             "colorbar": {
              "outlinewidth": 0,
              "ticks": ""
             }
            },
            "type": "scattercarpet"
           }
          ],
          "scattergeo": [
           {
            "marker": {
             "colorbar": {
              "outlinewidth": 0,
              "ticks": ""
             }
            },
            "type": "scattergeo"
           }
          ],
          "scattergl": [
           {
            "marker": {
             "colorbar": {
              "outlinewidth": 0,
              "ticks": ""
             }
            },
            "type": "scattergl"
           }
          ],
          "scattermapbox": [
           {
            "marker": {
             "colorbar": {
              "outlinewidth": 0,
              "ticks": ""
             }
            },
            "type": "scattermapbox"
           }
          ],
          "scatterpolar": [
           {
            "marker": {
             "colorbar": {
              "outlinewidth": 0,
              "ticks": ""
             }
            },
            "type": "scatterpolar"
           }
          ],
          "scatterpolargl": [
           {
            "marker": {
             "colorbar": {
              "outlinewidth": 0,
              "ticks": ""
             }
            },
            "type": "scatterpolargl"
           }
          ],
          "scatterternary": [
           {
            "marker": {
             "colorbar": {
              "outlinewidth": 0,
              "ticks": ""
             }
            },
            "type": "scatterternary"
           }
          ],
          "surface": [
           {
            "colorbar": {
             "outlinewidth": 0,
             "ticks": ""
            },
            "colorscale": [
             [
              0,
              "#0d0887"
             ],
             [
              0.1111111111111111,
              "#46039f"
             ],
             [
              0.2222222222222222,
              "#7201a8"
             ],
             [
              0.3333333333333333,
              "#9c179e"
             ],
             [
              0.4444444444444444,
              "#bd3786"
             ],
             [
              0.5555555555555556,
              "#d8576b"
             ],
             [
              0.6666666666666666,
              "#ed7953"
             ],
             [
              0.7777777777777778,
              "#fb9f3a"
             ],
             [
              0.8888888888888888,
              "#fdca26"
             ],
             [
              1,
              "#f0f921"
             ]
            ],
            "type": "surface"
           }
          ],
          "table": [
           {
            "cells": {
             "fill": {
              "color": "#EBF0F8"
             },
             "line": {
              "color": "white"
             }
            },
            "header": {
             "fill": {
              "color": "#C8D4E3"
             },
             "line": {
              "color": "white"
             }
            },
            "type": "table"
           }
          ]
         },
         "layout": {
          "annotationdefaults": {
           "arrowcolor": "#2a3f5f",
           "arrowhead": 0,
           "arrowwidth": 1
          },
          "autotypenumbers": "strict",
          "coloraxis": {
           "colorbar": {
            "outlinewidth": 0,
            "ticks": ""
           }
          },
          "colorscale": {
           "diverging": [
            [
             0,
             "#8e0152"
            ],
            [
             0.1,
             "#c51b7d"
            ],
            [
             0.2,
             "#de77ae"
            ],
            [
             0.3,
             "#f1b6da"
            ],
            [
             0.4,
             "#fde0ef"
            ],
            [
             0.5,
             "#f7f7f7"
            ],
            [
             0.6,
             "#e6f5d0"
            ],
            [
             0.7,
             "#b8e186"
            ],
            [
             0.8,
             "#7fbc41"
            ],
            [
             0.9,
             "#4d9221"
            ],
            [
             1,
             "#276419"
            ]
           ],
           "sequential": [
            [
             0,
             "#0d0887"
            ],
            [
             0.1111111111111111,
             "#46039f"
            ],
            [
             0.2222222222222222,
             "#7201a8"
            ],
            [
             0.3333333333333333,
             "#9c179e"
            ],
            [
             0.4444444444444444,
             "#bd3786"
            ],
            [
             0.5555555555555556,
             "#d8576b"
            ],
            [
             0.6666666666666666,
             "#ed7953"
            ],
            [
             0.7777777777777778,
             "#fb9f3a"
            ],
            [
             0.8888888888888888,
             "#fdca26"
            ],
            [
             1,
             "#f0f921"
            ]
           ],
           "sequentialminus": [
            [
             0,
             "#0d0887"
            ],
            [
             0.1111111111111111,
             "#46039f"
            ],
            [
             0.2222222222222222,
             "#7201a8"
            ],
            [
             0.3333333333333333,
             "#9c179e"
            ],
            [
             0.4444444444444444,
             "#bd3786"
            ],
            [
             0.5555555555555556,
             "#d8576b"
            ],
            [
             0.6666666666666666,
             "#ed7953"
            ],
            [
             0.7777777777777778,
             "#fb9f3a"
            ],
            [
             0.8888888888888888,
             "#fdca26"
            ],
            [
             1,
             "#f0f921"
            ]
           ]
          },
          "colorway": [
           "#636efa",
           "#EF553B",
           "#00cc96",
           "#ab63fa",
           "#FFA15A",
           "#19d3f3",
           "#FF6692",
           "#B6E880",
           "#FF97FF",
           "#FECB52"
          ],
          "font": {
           "color": "#2a3f5f"
          },
          "geo": {
           "bgcolor": "white",
           "lakecolor": "white",
           "landcolor": "#E5ECF6",
           "showlakes": true,
           "showland": true,
           "subunitcolor": "white"
          },
          "hoverlabel": {
           "align": "left"
          },
          "hovermode": "closest",
          "mapbox": {
           "style": "light"
          },
          "paper_bgcolor": "white",
          "plot_bgcolor": "#E5ECF6",
          "polar": {
           "angularaxis": {
            "gridcolor": "white",
            "linecolor": "white",
            "ticks": ""
           },
           "bgcolor": "#E5ECF6",
           "radialaxis": {
            "gridcolor": "white",
            "linecolor": "white",
            "ticks": ""
           }
          },
          "scene": {
           "xaxis": {
            "backgroundcolor": "#E5ECF6",
            "gridcolor": "white",
            "gridwidth": 2,
            "linecolor": "white",
            "showbackground": true,
            "ticks": "",
            "zerolinecolor": "white"
           },
           "yaxis": {
            "backgroundcolor": "#E5ECF6",
            "gridcolor": "white",
            "gridwidth": 2,
            "linecolor": "white",
            "showbackground": true,
            "ticks": "",
            "zerolinecolor": "white"
           },
           "zaxis": {
            "backgroundcolor": "#E5ECF6",
            "gridcolor": "white",
            "gridwidth": 2,
            "linecolor": "white",
            "showbackground": true,
            "ticks": "",
            "zerolinecolor": "white"
           }
          },
          "shapedefaults": {
           "line": {
            "color": "#2a3f5f"
           }
          },
          "ternary": {
           "aaxis": {
            "gridcolor": "white",
            "linecolor": "white",
            "ticks": ""
           },
           "baxis": {
            "gridcolor": "white",
            "linecolor": "white",
            "ticks": ""
           },
           "bgcolor": "#E5ECF6",
           "caxis": {
            "gridcolor": "white",
            "linecolor": "white",
            "ticks": ""
           }
          },
          "title": {
           "x": 0.05
          },
          "xaxis": {
           "automargin": true,
           "gridcolor": "white",
           "linecolor": "white",
           "ticks": "",
           "title": {
            "standoff": 15
           },
           "zerolinecolor": "white",
           "zerolinewidth": 2
          },
          "yaxis": {
           "automargin": true,
           "gridcolor": "white",
           "linecolor": "white",
           "ticks": "",
           "title": {
            "standoff": 15
           },
           "zerolinecolor": "white",
           "zerolinewidth": 2
          }
         }
        },
        "title": {
         "text": "Cantidad de Eventos por Distrito a lo Largo de los Años"
        },
        "xaxis": {
         "anchor": "y",
         "domain": [
          0,
          1
         ],
         "title": {
          "text": "Año"
         }
        },
        "yaxis": {
         "anchor": "x",
         "domain": [
          0,
          1
         ],
         "title": {
          "text": "Cantidad de Eventos"
         }
        }
       }
      }
     },
     "metadata": {},
     "output_type": "display_data"
    }
   ],
   "source": [
    "# Convertir la columna de fecha a formato datetime si no está en ese formato\n",
    "pz['DATE'] = pd.to_datetime(pz['DATE'], format='%d/%m/%Y')\n",
    "\n",
    "# Extraer el año de la columna DATE\n",
    "pz['YEAR'] = pz['DATE'].dt.year\n",
    "\n",
    "# Contar la cantidad de eventos por año y distrito\n",
    "eventos_por_distrito = pz.groupby(['YEAR', 'DISTRICT']).size().reset_index(name='EVENT_COUNT')\n",
    "\n",
    "# Crear el gráfico de líneas\n",
    "fig = px.line(eventos_por_distrito, x='YEAR', y='EVENT_COUNT', color='DISTRICT',\n",
    "              title='Cantidad de Eventos por Distrito a lo Largo de los Años',\n",
    "              labels={'YEAR': 'Año', 'EVENT_COUNT': 'Cantidad de Eventos'})\n",
    "\n",
    "fig.show()"
   ]
  },
  {
   "cell_type": "markdown",
   "metadata": {},
   "source": [
    "El gráfico presenta la cantidad de eventos ciclónicos registrados en los diferentes distritos de Pérez Zeledón a lo largo de los años. Cada línea representa un distrito específico, lo que permite comparar visualmente cómo la frecuencia de estos eventos ha variado en cada área. Al observar las tendencias, se pueden identificar patrones significativos, como un aumento en la cantidad de eventos en distritos como San Isidro del General, Páramo y la Amistad, especialmente en el año 2022, lo que podría indicar una mayor vulnerabilidad a los ciclones. También es relevante notar si hay picos de eventos coincidentes en varios distritos, sugiriendo la ocurrencia de fenómenos extremos que afectan simultáneamente a la región.\n",
    "\n",
    "Este tipo de visualización es valiosa porque permite responder preguntas clave sobre la relación entre el tiempo y la frecuencia de eventos ciclónicos. Por ejemplo, se puede determinar si ha habido un aumento en los eventos a lo largo de los años y qué distritos han sido más afectados. Al utilizar un gráfico en lugar de una tabla, se destacan patrones que podrían no ser evidentes de otra manera, como la identificación de tendencias comunes entre distritos cercanos. En última instancia, este análisis es fundamental para informar decisiones sobre la gestión del riesgo y la planificación territorial en respuesta a los cambios en el clima y la frecuencia de eventos extremos."
   ]
  },
  {
   "cell_type": "markdown",
   "metadata": {},
   "source": [
    "### Gráfico de barras"
   ]
  },
  {
   "cell_type": "code",
   "execution_count": 7,
   "metadata": {},
   "outputs": [
    {
     "data": {
      "application/vnd.plotly.v1+json": {
       "config": {
        "plotlyServerURL": "https://plot.ly"
       },
       "data": [
        {
         "alignmentgroup": "True",
         "hovertemplate": "variable=Total Inundaciones<br>Distrito=%{x}<br>Cantidad=%{y}<extra></extra>",
         "legendgroup": "Total Inundaciones",
         "marker": {
          "color": "#636efa",
          "pattern": {
           "shape": ""
          }
         },
         "name": "Total Inundaciones",
         "offsetgroup": "Total Inundaciones",
         "orientation": "v",
         "showlegend": true,
         "textposition": "auto",
         "type": "bar",
         "x": [
          "Baru",
          "Cajon",
          "Daniel Flores",
          "General",
          "La Amistad",
          "Paramo",
          "Pejibaye",
          "Platanares",
          "Rio Nuevo",
          "Rivas",
          "San Isidro de El General",
          "San Pedro"
         ],
         "xaxis": "x",
         "y": [
          15,
          8,
          12,
          6,
          7,
          13,
          20,
          13,
          9,
          17,
          29,
          9
         ],
         "yaxis": "y"
        },
        {
         "alignmentgroup": "True",
         "hovertemplate": "variable=Total Deslizamientos<br>Distrito=%{x}<br>Cantidad=%{y}<extra></extra>",
         "legendgroup": "Total Deslizamientos",
         "marker": {
          "color": "#EF553B",
          "pattern": {
           "shape": ""
          }
         },
         "name": "Total Deslizamientos",
         "offsetgroup": "Total Deslizamientos",
         "orientation": "v",
         "showlegend": true,
         "textposition": "auto",
         "type": "bar",
         "x": [
          "Baru",
          "Cajon",
          "Daniel Flores",
          "General",
          "La Amistad",
          "Paramo",
          "Pejibaye",
          "Platanares",
          "Rio Nuevo",
          "Rivas",
          "San Isidro de El General",
          "San Pedro"
         ],
         "xaxis": "x",
         "y": [
          0,
          0,
          1,
          0,
          0,
          9,
          4,
          2,
          0,
          2,
          2,
          2
         ],
         "yaxis": "y"
        }
       ],
       "layout": {
        "barmode": "group",
        "legend": {
         "title": {
          "text": "variable"
         },
         "tracegroupgap": 0
        },
        "template": {
         "data": {
          "bar": [
           {
            "error_x": {
             "color": "#2a3f5f"
            },
            "error_y": {
             "color": "#2a3f5f"
            },
            "marker": {
             "line": {
              "color": "#E5ECF6",
              "width": 0.5
             },
             "pattern": {
              "fillmode": "overlay",
              "size": 10,
              "solidity": 0.2
             }
            },
            "type": "bar"
           }
          ],
          "barpolar": [
           {
            "marker": {
             "line": {
              "color": "#E5ECF6",
              "width": 0.5
             },
             "pattern": {
              "fillmode": "overlay",
              "size": 10,
              "solidity": 0.2
             }
            },
            "type": "barpolar"
           }
          ],
          "carpet": [
           {
            "aaxis": {
             "endlinecolor": "#2a3f5f",
             "gridcolor": "white",
             "linecolor": "white",
             "minorgridcolor": "white",
             "startlinecolor": "#2a3f5f"
            },
            "baxis": {
             "endlinecolor": "#2a3f5f",
             "gridcolor": "white",
             "linecolor": "white",
             "minorgridcolor": "white",
             "startlinecolor": "#2a3f5f"
            },
            "type": "carpet"
           }
          ],
          "choropleth": [
           {
            "colorbar": {
             "outlinewidth": 0,
             "ticks": ""
            },
            "type": "choropleth"
           }
          ],
          "contour": [
           {
            "colorbar": {
             "outlinewidth": 0,
             "ticks": ""
            },
            "colorscale": [
             [
              0,
              "#0d0887"
             ],
             [
              0.1111111111111111,
              "#46039f"
             ],
             [
              0.2222222222222222,
              "#7201a8"
             ],
             [
              0.3333333333333333,
              "#9c179e"
             ],
             [
              0.4444444444444444,
              "#bd3786"
             ],
             [
              0.5555555555555556,
              "#d8576b"
             ],
             [
              0.6666666666666666,
              "#ed7953"
             ],
             [
              0.7777777777777778,
              "#fb9f3a"
             ],
             [
              0.8888888888888888,
              "#fdca26"
             ],
             [
              1,
              "#f0f921"
             ]
            ],
            "type": "contour"
           }
          ],
          "contourcarpet": [
           {
            "colorbar": {
             "outlinewidth": 0,
             "ticks": ""
            },
            "type": "contourcarpet"
           }
          ],
          "heatmap": [
           {
            "colorbar": {
             "outlinewidth": 0,
             "ticks": ""
            },
            "colorscale": [
             [
              0,
              "#0d0887"
             ],
             [
              0.1111111111111111,
              "#46039f"
             ],
             [
              0.2222222222222222,
              "#7201a8"
             ],
             [
              0.3333333333333333,
              "#9c179e"
             ],
             [
              0.4444444444444444,
              "#bd3786"
             ],
             [
              0.5555555555555556,
              "#d8576b"
             ],
             [
              0.6666666666666666,
              "#ed7953"
             ],
             [
              0.7777777777777778,
              "#fb9f3a"
             ],
             [
              0.8888888888888888,
              "#fdca26"
             ],
             [
              1,
              "#f0f921"
             ]
            ],
            "type": "heatmap"
           }
          ],
          "heatmapgl": [
           {
            "colorbar": {
             "outlinewidth": 0,
             "ticks": ""
            },
            "colorscale": [
             [
              0,
              "#0d0887"
             ],
             [
              0.1111111111111111,
              "#46039f"
             ],
             [
              0.2222222222222222,
              "#7201a8"
             ],
             [
              0.3333333333333333,
              "#9c179e"
             ],
             [
              0.4444444444444444,
              "#bd3786"
             ],
             [
              0.5555555555555556,
              "#d8576b"
             ],
             [
              0.6666666666666666,
              "#ed7953"
             ],
             [
              0.7777777777777778,
              "#fb9f3a"
             ],
             [
              0.8888888888888888,
              "#fdca26"
             ],
             [
              1,
              "#f0f921"
             ]
            ],
            "type": "heatmapgl"
           }
          ],
          "histogram": [
           {
            "marker": {
             "pattern": {
              "fillmode": "overlay",
              "size": 10,
              "solidity": 0.2
             }
            },
            "type": "histogram"
           }
          ],
          "histogram2d": [
           {
            "colorbar": {
             "outlinewidth": 0,
             "ticks": ""
            },
            "colorscale": [
             [
              0,
              "#0d0887"
             ],
             [
              0.1111111111111111,
              "#46039f"
             ],
             [
              0.2222222222222222,
              "#7201a8"
             ],
             [
              0.3333333333333333,
              "#9c179e"
             ],
             [
              0.4444444444444444,
              "#bd3786"
             ],
             [
              0.5555555555555556,
              "#d8576b"
             ],
             [
              0.6666666666666666,
              "#ed7953"
             ],
             [
              0.7777777777777778,
              "#fb9f3a"
             ],
             [
              0.8888888888888888,
              "#fdca26"
             ],
             [
              1,
              "#f0f921"
             ]
            ],
            "type": "histogram2d"
           }
          ],
          "histogram2dcontour": [
           {
            "colorbar": {
             "outlinewidth": 0,
             "ticks": ""
            },
            "colorscale": [
             [
              0,
              "#0d0887"
             ],
             [
              0.1111111111111111,
              "#46039f"
             ],
             [
              0.2222222222222222,
              "#7201a8"
             ],
             [
              0.3333333333333333,
              "#9c179e"
             ],
             [
              0.4444444444444444,
              "#bd3786"
             ],
             [
              0.5555555555555556,
              "#d8576b"
             ],
             [
              0.6666666666666666,
              "#ed7953"
             ],
             [
              0.7777777777777778,
              "#fb9f3a"
             ],
             [
              0.8888888888888888,
              "#fdca26"
             ],
             [
              1,
              "#f0f921"
             ]
            ],
            "type": "histogram2dcontour"
           }
          ],
          "mesh3d": [
           {
            "colorbar": {
             "outlinewidth": 0,
             "ticks": ""
            },
            "type": "mesh3d"
           }
          ],
          "parcoords": [
           {
            "line": {
             "colorbar": {
              "outlinewidth": 0,
              "ticks": ""
             }
            },
            "type": "parcoords"
           }
          ],
          "pie": [
           {
            "automargin": true,
            "type": "pie"
           }
          ],
          "scatter": [
           {
            "fillpattern": {
             "fillmode": "overlay",
             "size": 10,
             "solidity": 0.2
            },
            "type": "scatter"
           }
          ],
          "scatter3d": [
           {
            "line": {
             "colorbar": {
              "outlinewidth": 0,
              "ticks": ""
             }
            },
            "marker": {
             "colorbar": {
              "outlinewidth": 0,
              "ticks": ""
             }
            },
            "type": "scatter3d"
           }
          ],
          "scattercarpet": [
           {
            "marker": {
             "colorbar": {
              "outlinewidth": 0,
              "ticks": ""
             }
            },
            "type": "scattercarpet"
           }
          ],
          "scattergeo": [
           {
            "marker": {
             "colorbar": {
              "outlinewidth": 0,
              "ticks": ""
             }
            },
            "type": "scattergeo"
           }
          ],
          "scattergl": [
           {
            "marker": {
             "colorbar": {
              "outlinewidth": 0,
              "ticks": ""
             }
            },
            "type": "scattergl"
           }
          ],
          "scattermapbox": [
           {
            "marker": {
             "colorbar": {
              "outlinewidth": 0,
              "ticks": ""
             }
            },
            "type": "scattermapbox"
           }
          ],
          "scatterpolar": [
           {
            "marker": {
             "colorbar": {
              "outlinewidth": 0,
              "ticks": ""
             }
            },
            "type": "scatterpolar"
           }
          ],
          "scatterpolargl": [
           {
            "marker": {
             "colorbar": {
              "outlinewidth": 0,
              "ticks": ""
             }
            },
            "type": "scatterpolargl"
           }
          ],
          "scatterternary": [
           {
            "marker": {
             "colorbar": {
              "outlinewidth": 0,
              "ticks": ""
             }
            },
            "type": "scatterternary"
           }
          ],
          "surface": [
           {
            "colorbar": {
             "outlinewidth": 0,
             "ticks": ""
            },
            "colorscale": [
             [
              0,
              "#0d0887"
             ],
             [
              0.1111111111111111,
              "#46039f"
             ],
             [
              0.2222222222222222,
              "#7201a8"
             ],
             [
              0.3333333333333333,
              "#9c179e"
             ],
             [
              0.4444444444444444,
              "#bd3786"
             ],
             [
              0.5555555555555556,
              "#d8576b"
             ],
             [
              0.6666666666666666,
              "#ed7953"
             ],
             [
              0.7777777777777778,
              "#fb9f3a"
             ],
             [
              0.8888888888888888,
              "#fdca26"
             ],
             [
              1,
              "#f0f921"
             ]
            ],
            "type": "surface"
           }
          ],
          "table": [
           {
            "cells": {
             "fill": {
              "color": "#EBF0F8"
             },
             "line": {
              "color": "white"
             }
            },
            "header": {
             "fill": {
              "color": "#C8D4E3"
             },
             "line": {
              "color": "white"
             }
            },
            "type": "table"
           }
          ]
         },
         "layout": {
          "annotationdefaults": {
           "arrowcolor": "#2a3f5f",
           "arrowhead": 0,
           "arrowwidth": 1
          },
          "autotypenumbers": "strict",
          "coloraxis": {
           "colorbar": {
            "outlinewidth": 0,
            "ticks": ""
           }
          },
          "colorscale": {
           "diverging": [
            [
             0,
             "#8e0152"
            ],
            [
             0.1,
             "#c51b7d"
            ],
            [
             0.2,
             "#de77ae"
            ],
            [
             0.3,
             "#f1b6da"
            ],
            [
             0.4,
             "#fde0ef"
            ],
            [
             0.5,
             "#f7f7f7"
            ],
            [
             0.6,
             "#e6f5d0"
            ],
            [
             0.7,
             "#b8e186"
            ],
            [
             0.8,
             "#7fbc41"
            ],
            [
             0.9,
             "#4d9221"
            ],
            [
             1,
             "#276419"
            ]
           ],
           "sequential": [
            [
             0,
             "#0d0887"
            ],
            [
             0.1111111111111111,
             "#46039f"
            ],
            [
             0.2222222222222222,
             "#7201a8"
            ],
            [
             0.3333333333333333,
             "#9c179e"
            ],
            [
             0.4444444444444444,
             "#bd3786"
            ],
            [
             0.5555555555555556,
             "#d8576b"
            ],
            [
             0.6666666666666666,
             "#ed7953"
            ],
            [
             0.7777777777777778,
             "#fb9f3a"
            ],
            [
             0.8888888888888888,
             "#fdca26"
            ],
            [
             1,
             "#f0f921"
            ]
           ],
           "sequentialminus": [
            [
             0,
             "#0d0887"
            ],
            [
             0.1111111111111111,
             "#46039f"
            ],
            [
             0.2222222222222222,
             "#7201a8"
            ],
            [
             0.3333333333333333,
             "#9c179e"
            ],
            [
             0.4444444444444444,
             "#bd3786"
            ],
            [
             0.5555555555555556,
             "#d8576b"
            ],
            [
             0.6666666666666666,
             "#ed7953"
            ],
            [
             0.7777777777777778,
             "#fb9f3a"
            ],
            [
             0.8888888888888888,
             "#fdca26"
            ],
            [
             1,
             "#f0f921"
            ]
           ]
          },
          "colorway": [
           "#636efa",
           "#EF553B",
           "#00cc96",
           "#ab63fa",
           "#FFA15A",
           "#19d3f3",
           "#FF6692",
           "#B6E880",
           "#FF97FF",
           "#FECB52"
          ],
          "font": {
           "color": "#2a3f5f"
          },
          "geo": {
           "bgcolor": "white",
           "lakecolor": "white",
           "landcolor": "#E5ECF6",
           "showlakes": true,
           "showland": true,
           "subunitcolor": "white"
          },
          "hoverlabel": {
           "align": "left"
          },
          "hovermode": "closest",
          "mapbox": {
           "style": "light"
          },
          "paper_bgcolor": "white",
          "plot_bgcolor": "#E5ECF6",
          "polar": {
           "angularaxis": {
            "gridcolor": "white",
            "linecolor": "white",
            "ticks": ""
           },
           "bgcolor": "#E5ECF6",
           "radialaxis": {
            "gridcolor": "white",
            "linecolor": "white",
            "ticks": ""
           }
          },
          "scene": {
           "xaxis": {
            "backgroundcolor": "#E5ECF6",
            "gridcolor": "white",
            "gridwidth": 2,
            "linecolor": "white",
            "showbackground": true,
            "ticks": "",
            "zerolinecolor": "white"
           },
           "yaxis": {
            "backgroundcolor": "#E5ECF6",
            "gridcolor": "white",
            "gridwidth": 2,
            "linecolor": "white",
            "showbackground": true,
            "ticks": "",
            "zerolinecolor": "white"
           },
           "zaxis": {
            "backgroundcolor": "#E5ECF6",
            "gridcolor": "white",
            "gridwidth": 2,
            "linecolor": "white",
            "showbackground": true,
            "ticks": "",
            "zerolinecolor": "white"
           }
          },
          "shapedefaults": {
           "line": {
            "color": "#2a3f5f"
           }
          },
          "ternary": {
           "aaxis": {
            "gridcolor": "white",
            "linecolor": "white",
            "ticks": ""
           },
           "baxis": {
            "gridcolor": "white",
            "linecolor": "white",
            "ticks": ""
           },
           "bgcolor": "#E5ECF6",
           "caxis": {
            "gridcolor": "white",
            "linecolor": "white",
            "ticks": ""
           }
          },
          "title": {
           "x": 0.05
          },
          "xaxis": {
           "automargin": true,
           "gridcolor": "white",
           "linecolor": "white",
           "ticks": "",
           "title": {
            "standoff": 15
           },
           "zerolinecolor": "white",
           "zerolinewidth": 2
          },
          "yaxis": {
           "automargin": true,
           "gridcolor": "white",
           "linecolor": "white",
           "ticks": "",
           "title": {
            "standoff": 15
           },
           "zerolinecolor": "white",
           "zerolinewidth": 2
          }
         }
        },
        "title": {
         "text": "Cantidad de Inundaciones y Deslizamientos por Distrito"
        },
        "xaxis": {
         "anchor": "y",
         "domain": [
          0,
          1
         ],
         "title": {
          "text": "Distrito"
         }
        },
        "yaxis": {
         "anchor": "x",
         "domain": [
          0,
          1
         ],
         "title": {
          "text": "Cantidad"
         }
        }
       }
      }
     },
     "metadata": {},
     "output_type": "display_data"
    }
   ],
   "source": [
    "# Contar inundaciones y deslizamientos por distrito\n",
    "inundaciones = pz.groupby('DISTRICT')['INUN'].sum().reset_index()\n",
    "deslizamientos = pz.groupby('DISTRICT')['DESL'].sum().reset_index()\n",
    "\n",
    "# Renombrar las columnas para claridad\n",
    "inundaciones.rename(columns={'INUN': 'Total Inundaciones'}, inplace=True)\n",
    "deslizamientos.rename(columns={'DESL': 'Total Deslizamientos'}, inplace=True)\n",
    "\n",
    "# Fusionar ambos DataFrames\n",
    "eventos_distritos = pd.merge(inundaciones, deslizamientos, on='DISTRICT')\n",
    "\n",
    "# Crear el gráfico de barras\n",
    "fig = px.bar(eventos_distritos, \n",
    "              x='DISTRICT', \n",
    "              y=['Total Inundaciones', 'Total Deslizamientos'],\n",
    "              title='Cantidad de Inundaciones y Deslizamientos por Distrito',\n",
    "              labels={'value': 'Cantidad', 'DISTRICT': 'Distrito'},\n",
    "              barmode='group')  # Para mostrar las barras lado a lado\n",
    "\n",
    "# Mostrar el gráfico\n",
    "fig.show()"
   ]
  },
  {
   "cell_type": "markdown",
   "metadata": {},
   "source": [
    "El gráfico de barras ilustra la cantidad de inundaciones y deslizamientos reportados en los diferentes distritos del cantón de Pérez Zeledón desde el año 1988 hasta el 2022. Cada barra representa a una variable de un distrito específico, y la altura de la barra indica la frecuencia de estos eventos. A través de esta visualización, se puede observar que ciertos distritos, como San Isidro del General y Pejibaye, presentan una incidencia notablemente más alta de inundaciones en comparación con otros, lo que sugiere una vulnerabilidad particular a estos fenómenos. Esta representación permite identificar rápidamente las áreas que han experimentado un mayor número de eventos, lo que puede ser útil para priorizar la atención y los recursos en la gestión del riesgo.\n",
    "\n",
    "La importancia de este tipo de gráfico radica en su capacidad para resaltar las disparidades entre los distritos en cuanto a los impactos de fenómenos naturales. A diferencia de otros formatos, como las tablas, que pueden resultar difíciles de interpretar de un vistazo, el gráfico de barras proporciona una comparación visual clara y efectiva. Esto no solo facilita la identificación de patrones en los datos, sino que también puede conducir a preguntas más profundas sobre las causas subyacentes de estos eventos, como la urbanización, el uso del suelo y la infraestructura. Al comprender las variaciones en la incidencia de inundaciones y deslizamientos, las autoridades pueden tomar decisiones informadas sobre la planificación y ejecución de medidas de mitigación, ayudando así a proteger a las comunidades más vulnerables."
   ]
  },
  {
   "cell_type": "markdown",
   "metadata": {},
   "source": [
    "## Mapas"
   ]
  },
  {
   "cell_type": "markdown",
   "metadata": {},
   "source": [
    "### Mapa 1"
   ]
  },
  {
   "cell_type": "code",
   "execution_count": 8,
   "metadata": {},
   "outputs": [
    {
     "data": {
      "application/vnd.jupyter.widget-view+json": {
       "model_id": "b38624afab1b4ca09f25228b8ed849ce",
       "version_major": 2,
       "version_minor": 0
      },
      "text/plain": [
       "Map(center=[9.337, -83.7], controls=(ZoomControl(options=['position', 'zoom_in_text', 'zoom_in_title', 'zoom_o…"
      ]
     },
     "execution_count": 8,
     "metadata": {},
     "output_type": "execute_result"
    }
   ],
   "source": [
    "# Filtrar los datos para Inundaciones y Deslizamientos\n",
    "inundaciones_gdf = impactosPZ_gdf[impactosPZ_gdf['INUN'] == 1]\n",
    "deslizamientos_gdf = impactosPZ_gdf[impactosPZ_gdf['DESL'] == 1]\n",
    "\n",
    "# Crear capas GeoData para puntos\n",
    "geo_inundaciones = GeoData(\n",
    "    geo_dataframe=inundaciones_gdf,\n",
    "    point_style={\n",
    "        'radius': 6,\n",
    "        'color': 'black',  # Contorno negro\n",
    "        'fillOpacity': 0.8,\n",
    "        'fillColor': 'blue',  # Azul para inundaciones\n",
    "        'weight': 1.5\n",
    "    },\n",
    "    name=\"Inundaciones\"\n",
    ")\n",
    "\n",
    "geo_deslizamientos = GeoData(\n",
    "    geo_dataframe=deslizamientos_gdf,\n",
    "    point_style={\n",
    "        'radius': 6,\n",
    "        'color': 'black',  # Contorno negro\n",
    "        'fillOpacity': 0.8,\n",
    "        'fillColor': 'red',  # Rojo para deslizamientos\n",
    "        'weight': 1.5\n",
    "    },\n",
    "    name=\"Deslizamientos\"\n",
    ")\n",
    "\n",
    "# Crear el mapa\n",
    "m = leafmap.Map(\n",
    "    center=(9.337, -83.7), \n",
    "    zoom=11,\n",
    "    height=\"780px\",\n",
    "    zoom_control=True,\n",
    "    draw_control=False,\n",
    "    scale_control=True,\n",
    "    fullscreen_control=False,\n",
    "    attribution_control=False,\n",
    "    toolbar_control=False, \n",
    "    layers_control=True)\n",
    "\n",
    "# Agregar las capas al mapa\n",
    "m.add_layer(geo_inundaciones)\n",
    "m.add_layer(geo_deslizamientos)\n",
    "\n",
    "m.add_gdf(\n",
    "    distritosPZ_gdf,\n",
    "    style={\n",
    "        'color': '#003366',  # Contorno azul oscuro\n",
    "        'weight': 2,         # Grosor del contorno\n",
    "        'fillColor': '#99ccff',  # Azul claro para el relleno\n",
    "        'fillOpacity': 0.4\n",
    "    },\n",
    "    layer_name=\"Distritos\"\n",
    ")\n",
    "\n",
    "# Mostrar el mapa\n",
    "m\n",
    "\n"
   ]
  },
  {
   "cell_type": "markdown",
   "metadata": {},
   "source": [
    "El código presentado visualiza datos de eventos de inundaciones y deslizamientos producto de ciclones tropicales ocurridos en el cantón de Pérez Zeledón mediante un mapa interactivo. Se filtran los datos de los eventos a partir de las columnas con los datos originales, representando inundaciones con puntos azules y deslizamientos con puntos rojos, ambos con contornos negros para facilitar su distinción. Además, se superponen los límites de los distritos del cantón, estilizados con un relleno azul claro semitransparente, lo que permite contextualizar espacialmente los eventos dentro de la región. Este mapa permite como herramienta visual analizar la distribución geográfica de los impactos, identificar patrones recurrentes o áreas de mayor afectación, y servir como base para planificar medidas de mitigación y gestión del riesgo en el territorio.\n"
   ]
  },
  {
   "cell_type": "markdown",
   "metadata": {},
   "source": [
    "### Mapa 2"
   ]
  },
  {
   "cell_type": "code",
   "execution_count": 9,
   "metadata": {},
   "outputs": [
    {
     "data": {
      "application/vnd.jupyter.widget-view+json": {
       "model_id": "4753b3c8a62c4c65970553034eec3f51",
       "version_major": 2,
       "version_minor": 0
      },
      "text/plain": [
       "Map(center=[9.337, -83.7], controls=(ZoomControl(options=['position', 'zoom_in_text', 'zoom_in_title', 'zoom_o…"
      ]
     },
     "execution_count": 9,
     "metadata": {},
     "output_type": "execute_result"
    }
   ],
   "source": [
    "# Confirmar que ambos están en el mismo CRS\n",
    "if impactosPZ_gdf.crs != distritosPZ_gdf.crs:\n",
    "    impactosPZ_gdf = impactosPZ_gdf.to_crs(distritosPZ_gdf.crs)\n",
    "\n",
    "# Contar el número de eventos por distrito\n",
    "conteo_eventos = (\n",
    "    impactosPZ_gdf.groupby(\"DISTRITO\")\n",
    "    .size()\n",
    "    .reset_index(name=\"conteo_eventos\")\n",
    ")\n",
    "\n",
    "# Renombrar columnas en 'conteo_eventos' para evitar conflicto\n",
    "conteo_eventos.rename(columns={\"DISTRITO\": \"distrito_clave\"}, inplace=True)\n",
    "\n",
    "# Unir los resultados al GeoDataFrame de distritos\n",
    "distritosPZ_gdf = distritosPZ_gdf.merge(\n",
    "    conteo_eventos,\n",
    "    left_on=\"distrito\",\n",
    "    right_on=\"distrito_clave\",\n",
    "    how=\"left\"\n",
    ")\n",
    "\n",
    "# Reemplazar valores NaN (distritos sin eventos) con 0\n",
    "distritosPZ_gdf[\"conteo_eventos\"] = distritosPZ_gdf[\"conteo_eventos\"].fillna(0)\n",
    "\n",
    "# Crear un mapa con Leafmap\n",
    "m = leafmap.Map(\n",
    "    center=(9.337, -83.7), \n",
    "    zoom=11,\n",
    "    height=\"780px\",\n",
    "    zoom_control=True,\n",
    "    draw_control=False,\n",
    "    scale_control=True,\n",
    "    fullscreen_control=False,\n",
    "    attribution_control=False,\n",
    "    toolbar_control=False, \n",
    "    layers_control=True,\n",
    ")\n",
    "\n",
    "# Agregar la capa de coropletas\n",
    "m.add_data(\n",
    "    distritosPZ_gdf,\n",
    "    column=\"conteo_eventos\",  # Columna para el mapa de coropletas\n",
    "    scheme=\"Quantiles\",      # Esquema de clasificación\n",
    "    cmap=\"OrRd\",             # Paleta de colores\n",
    "    legend_title=\"Cantidad de eventos\"  # Título de la leyenda\n",
    ")\n",
    "\n",
    "# Desplegar el mapa\n",
    "m\n",
    "\n"
   ]
  },
  {
   "cell_type": "markdown",
   "metadata": {},
   "source": [
    "El código genera un mapa de coropletas interactivo que visualiza la cantidad de eventos relacionados con ciclones tropicales en los distritos del cantón de Pérez Zeledón. El mapa facilita identificar rápidamente los distritos más afectados, proporcionando información clave para la gestión del riesgo ante ciclones tropicales."
   ]
  },
  {
   "cell_type": "markdown",
   "metadata": {},
   "source": [
    "### Mapa 3"
   ]
  },
  {
   "cell_type": "code",
   "execution_count": null,
   "metadata": {},
   "outputs": [
    {
     "data": {
      "application/vnd.jupyter.widget-view+json": {
       "model_id": "29d41addfc33435d8c4a1d4d8b129f7e",
       "version_major": 2,
       "version_minor": 0
      },
      "text/plain": [
       "Map(center=[9.337499999999999, -83.7166665], controls=(ZoomControl(options=['position', 'zoom_in_text', 'zoom_…"
      ]
     },
     "execution_count": 10,
     "metadata": {},
     "output_type": "execute_result"
    }
   ],
   "source": [
    "# Cargar la capa de distritos\n",
    "distritos = distritosPZ_gdf\n",
    "\n",
    "# Leer el ráster de altitud\n",
    "altitud = rasterio.open(\n",
    "    'https://github.com/gf0657-programacionsig/2024-ii/raw/refs/heads/main/datos/worldclim/altitud.tif'\n",
    ")\n",
    "\n",
    "# Zona de interés\n",
    "zona_deseada = \"Pérez Zeledón\"\n",
    "zona_estudio = distritos[distritos['canton'] == zona_deseada]\n",
    "\n",
    "# Confirmar que la geometría esté en el mismo CRS que el ráster\n",
    "if zona_estudio.crs != altitud.crs:\n",
    "    zona_estudio = zona_estudio.to_crs(altitud.crs)\n",
    "\n",
    "# Extraer la geometría como una lista de diccionarios GeoJSON-like\n",
    "geometria = [geom.__geo_interface__ for geom in zona_estudio.geometry]\n",
    "\n",
    "# Recortar el ráster utilizando la máscara\n",
    "altitud_recortada, transform = mask(dataset=altitud, shapes=geometria, crop=True)\n",
    "\n",
    "# Actualizar los metadatos del ráster recortado\n",
    "metadata = altitud.meta.copy()\n",
    "metadata.update({\n",
    "    \"driver\": \"GTiff\",\n",
    "    \"height\": altitud_recortada.shape[1],\n",
    "    \"width\": altitud_recortada.shape[2],\n",
    "    \"transform\": transform\n",
    "})\n",
    "\n",
    "# Guardar el ráster recortado como un nuevo archivo\n",
    "with rasterio.open('altitud_recortada.tif', 'w', **metadata) as dest:\n",
    "    dest.write(altitud_recortada)\n",
    "\n",
    "# Visualizar el resultado con leafmap\n",
    "m = leafmap.Map(\n",
    "    center=[9.337, -83.7], \n",
    "    zoom=11,\n",
    "    height=\"780px\",\n",
    "    zoom_control=True,\n",
    "    draw_control=False,\n",
    "    scale_control=True,\n",
    "    fullscreen_control=False,\n",
    "    attribution_control=False,\n",
    "    toolbar_control=False, \n",
    "    layers_control=True\n",
    "    )\n",
    "\n",
    "\n",
    "m.add_raster('altitud_recortada.tif', colormap=\"viridis\", layer_name=\"Altitud Recortada\")\n",
    "m.add_gdf(zona_estudio, layer_name=\"Zona de Estudio\", style={\"color\": \"blue\", \"fillOpacity\": 0.2})\n",
    "m"
   ]
  },
  {
   "cell_type": "markdown",
   "metadata": {},
   "source": [
    "## Referencias"
   ]
  },
  {
   "cell_type": "markdown",
   "metadata": {},
   "source": [
    "UNDRR. (2019). Costa Rica. Sendai Framework for Disaster Risk Reduction. Recuperado de: https://www.desinventar.net/DesInventar/profiletab.jsp?countrycode=cri&continue=y "
   ]
  }
 ],
 "metadata": {
  "kernelspec": {
   "display_name": "geopython",
   "language": "python",
   "name": "python3"
  },
  "language_info": {
   "codemirror_mode": {
    "name": "ipython",
    "version": 3
   },
   "file_extension": ".py",
   "mimetype": "text/x-python",
   "name": "python",
   "nbconvert_exporter": "python",
   "pygments_lexer": "ipython3",
   "version": "3.11.10"
  }
 },
 "nbformat": 4,
 "nbformat_minor": 2
}
